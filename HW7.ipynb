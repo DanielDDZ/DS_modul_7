{
  "nbformat": 4,
  "nbformat_minor": 0,
  "metadata": {
    "colab": {
      "provenance": []
    },
    "kernelspec": {
      "name": "python3",
      "display_name": "Python 3"
    },
    "language_info": {
      "name": "python"
    }
  },
  "cells": [
    {
      "cell_type": "markdown",
      "source": [
        "# Домашнє завдання модуля 7"
      ],
      "metadata": {
        "id": "6lEzRs_xalJ6"
      }
    },
    {
      "cell_type": "code",
      "source": [
        "!pip install scikit-surprise"
      ],
      "metadata": {
        "id": "yVTsKK72ZOtE"
      },
      "execution_count": null,
      "outputs": []
    },
    {
      "cell_type": "code",
      "execution_count": 14,
      "metadata": {
        "id": "_fCCAsduXGIN"
      },
      "outputs": [],
      "source": [
        "from surprise import SVD, SVDpp, NMF\n",
        "from surprise import Dataset\n",
        "from surprise.model_selection import cross_validate"
      ]
    },
    {
      "cell_type": "code",
      "source": [
        "data = Dataset.load_builtin('ml-100k')\n",
        "data"
      ],
      "metadata": {
        "colab": {
          "base_uri": "https://localhost:8080/"
        },
        "id": "4QgVaq-fZcR9",
        "outputId": "8111e1e2-2751-496b-f835-e6e270555681"
      },
      "execution_count": 19,
      "outputs": [
        {
          "output_type": "execute_result",
          "data": {
            "text/plain": [
              "<surprise.dataset.DatasetAutoFolds at 0x785e520b1e10>"
            ]
          },
          "metadata": {},
          "execution_count": 19
        }
      ]
    },
    {
      "cell_type": "markdown",
      "source": [
        "# SVD"
      ],
      "metadata": {
        "id": "R-PcNn4bZett"
      }
    },
    {
      "cell_type": "code",
      "source": [
        "model_svd = SVD()\n",
        "\n",
        "cv_results = cross_validate(model_svd, data, measures=['RMSE', 'MAE'], cv=5, verbose=True)\n",
        "\n",
        "svd_mean_rmse = cv_results['test_rmse'].mean()\n",
        "svd_mean_mae = cv_results['test_mae'].mean()\n",
        "\n",
        "print(\"SVD result:\")\n",
        "print(\"Mean RMSE:\", svd_mean_rmse)\n",
        "print(\"Mean MAE:\", svd_mean_mae)"
      ],
      "metadata": {
        "colab": {
          "base_uri": "https://localhost:8080/"
        },
        "id": "owIFLhGvXbK5",
        "outputId": "5dc4cc65-4f1b-4788-c2d0-4142201887cb"
      },
      "execution_count": 24,
      "outputs": [
        {
          "output_type": "stream",
          "name": "stdout",
          "text": [
            "Evaluating RMSE, MAE of algorithm SVD on 5 split(s).\n",
            "\n",
            "                  Fold 1  Fold 2  Fold 3  Fold 4  Fold 5  Mean    Std     \n",
            "RMSE (testset)    0.9357  0.9362  0.9310  0.9372  0.9340  0.9348  0.0022  \n",
            "MAE (testset)     0.7359  0.7376  0.7353  0.7373  0.7369  0.7366  0.0009  \n",
            "Fit time          1.38    1.82    1.71    1.49    1.37    1.55    0.18    \n",
            "Test time         0.29    0.13    0.13    0.21    0.38    0.23    0.10    \n",
            "SVD result:\n",
            "Mean RMSE: 0.9348261279613596\n",
            "Mean MAE: 0.7366079474298248\n"
          ]
        }
      ]
    },
    {
      "cell_type": "markdown",
      "source": [
        "# SVDpp"
      ],
      "metadata": {
        "id": "Mciz_mtQZjqU"
      }
    },
    {
      "cell_type": "code",
      "source": [
        "model_svdpp = SVDpp()\n",
        "\n",
        "cv_results = cross_validate(model_svdpp, data, measures=['RMSE', 'MAE'], cv=5, verbose=True)\n",
        "\n",
        "svd_pp_mean_rmse = cv_results['test_rmse'].mean()\n",
        "svd_pp_mean_mae = cv_results['test_mae'].mean()\n",
        "\n",
        "print(\"SVDpp result:\")\n",
        "print(\"Mean RMSE:\", svd_pp_mean_rmse)\n",
        "print(\"Mean MAE:\", svd_pp_mean_mae)"
      ],
      "metadata": {
        "colab": {
          "base_uri": "https://localhost:8080/"
        },
        "id": "R4sqeYg-Xmss",
        "outputId": "1921ce1d-767e-4de9-c905-c30499cb569d"
      },
      "execution_count": 25,
      "outputs": [
        {
          "output_type": "stream",
          "name": "stdout",
          "text": [
            "Evaluating RMSE, MAE of algorithm SVDpp on 5 split(s).\n",
            "\n",
            "                  Fold 1  Fold 2  Fold 3  Fold 4  Fold 5  Mean    Std     \n",
            "RMSE (testset)    0.9235  0.9172  0.9201  0.9256  0.9217  0.9216  0.0029  \n",
            "MAE (testset)     0.7244  0.7188  0.7225  0.7244  0.7250  0.7230  0.0023  \n",
            "Fit time          27.51   26.58   26.85   26.99   26.50   26.89   0.36    \n",
            "Test time         4.85    4.69    5.12    4.39    5.22    4.85    0.30    \n",
            "SVDpp result:\n",
            "Mean RMSE: 0.9216126936522221\n",
            "Mean MAE: 0.723037944715788\n"
          ]
        }
      ]
    },
    {
      "cell_type": "markdown",
      "source": [
        "# NMF"
      ],
      "metadata": {
        "id": "w9SFkHTGZmyB"
      }
    },
    {
      "cell_type": "code",
      "source": [
        "model_nmf = NMF()\n",
        "\n",
        "cv_results = cross_validate(model_nmf, data, measures=['RMSE', 'MAE'], cv=5, verbose=True)\n",
        "\n",
        "nmf_mean_rmse = cv_results['test_rmse'].mean()\n",
        "nmf_mean_mae = cv_results['test_mae'].mean()\n",
        "\n",
        "print(\"NMF result:\")\n",
        "print(\"Mean RMSE:\", nmf_mean_rmse)\n",
        "print(\"Mean MAE:\", nmf_mean_mae)"
      ],
      "metadata": {
        "colab": {
          "base_uri": "https://localhost:8080/"
        },
        "id": "RgwAr3XqXqC5",
        "outputId": "12ce897e-646a-4095-daa2-a66fb0bb2f90"
      },
      "execution_count": 26,
      "outputs": [
        {
          "output_type": "stream",
          "name": "stdout",
          "text": [
            "Evaluating RMSE, MAE of algorithm NMF on 5 split(s).\n",
            "\n",
            "                  Fold 1  Fold 2  Fold 3  Fold 4  Fold 5  Mean    Std     \n",
            "RMSE (testset)    0.9634  0.9634  0.9662  0.9671  0.9645  0.9649  0.0015  \n",
            "MAE (testset)     0.7588  0.7576  0.7603  0.7625  0.7582  0.7595  0.0018  \n",
            "Fit time          2.17    2.14    2.19    2.44    2.45    2.28    0.14    \n",
            "Test time         0.27    0.12    0.24    0.20    0.25    0.21    0.05    \n",
            "NMF result:\n",
            "Mean RMSE: 0.9649224259583888\n",
            "Mean MAE: 0.759507339797651\n"
          ]
        }
      ]
    },
    {
      "cell_type": "markdown",
      "source": [
        "**Висновок:** NMF буде оптимальним"
      ],
      "metadata": {
        "id": "iGTwB5c1Xs7X"
      }
    }
  ]
}